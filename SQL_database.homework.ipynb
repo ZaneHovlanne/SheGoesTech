{
 "cells": [
  {
   "cell_type": "code",
   "execution_count": 2,
   "metadata": {},
   "outputs": [],
   "source": [
    "import sqlite3\n",
    "import pandas as pd"
   ]
  },
  {
   "cell_type": "code",
   "execution_count": 11,
   "metadata": {},
   "outputs": [],
   "source": [
    "class Data_from_chinook:\n",
    "\n",
    "    def __init__(self, dbpath):\n",
    "        self.dbpath = dbpath\n",
    "        self.conn = sqlite3.connect(dbpath)\n",
    "        self.cursor = self.conn.cursor()\n",
    "        print(\n",
    "            f\"Connected to database: {dbpath} Ready to perform CRUD operations!\")\n",
    "\n",
    "    def __del__(self):\n",
    "        print(\"Closing connection\")\n",
    "        self.conn.close()\n",
    "\n",
    "    def sales_by_sales_agent(self):\n",
    "        query = \"\"\"\n",
    "            SELECT e.LastName, c.SupportRepId, SUM(i.Total)  AS sales_by_agent\n",
    "            FROM employees e\n",
    "            JOIN customers c ON e.EmployeeId = c.SupportRepId\n",
    "            JOIN invoices i ON c.CustomerId = i.CustomerId\n",
    "            GROUP BY e.LastName\n",
    "            ORDER BY sales_by_agent DESC\n",
    "        \"\"\"\n",
    "        return pd.read_sql_query(query, self.conn)\n",
    "\n",
    "    def top_selling_track_of_2012(self):\n",
    "        query = \"\"\"\n",
    "            SELECT t.Name as Name_of_the_song, i.InvoiceDate, COUNT(*)  AS top_selling_track_2012\n",
    "            FROM tracks t \n",
    "            JOIN invoice_items ii ON t.TrackId = ii.TrackId\n",
    "            JOIN invoices i ON  ii.invoiceId = i.invoiceId\n",
    "            WHERE i.InvoiceDate like \"%2012%\"\n",
    "            GROUP BY i.InvoiceDate \n",
    "            ORDER BY top_selling_track_2012 DESC\n",
    "            limit 15\n",
    "        \"\"\"\n",
    "        return pd.read_sql_query(query, self.conn)"
   ]
  },
  {
   "cell_type": "code",
   "execution_count": 13,
   "metadata": {},
   "outputs": [
    {
     "name": "stdout",
     "output_type": "stream",
     "text": [
      "Connected to database: chinook.db Ready to perform CRUD operations!\n",
      "Closing connection\n"
     ]
    },
    {
     "data": {
      "text/plain": [
       "'chinook.db'"
      ]
     },
     "execution_count": 13,
     "metadata": {},
     "output_type": "execute_result"
    }
   ],
   "source": [
    "db = Data_from_chinook(\"chinook.db\")\n",
    "db.dbpath"
   ]
  },
  {
   "cell_type": "code",
   "execution_count": 9,
   "metadata": {},
   "outputs": [
    {
     "data": {
      "text/html": [
       "<div>\n",
       "<style scoped>\n",
       "    .dataframe tbody tr th:only-of-type {\n",
       "        vertical-align: middle;\n",
       "    }\n",
       "\n",
       "    .dataframe tbody tr th {\n",
       "        vertical-align: top;\n",
       "    }\n",
       "\n",
       "    .dataframe thead th {\n",
       "        text-align: right;\n",
       "    }\n",
       "</style>\n",
       "<table border=\"1\" class=\"dataframe\">\n",
       "  <thead>\n",
       "    <tr style=\"text-align: right;\">\n",
       "      <th></th>\n",
       "      <th>LastName</th>\n",
       "      <th>SupportRepId</th>\n",
       "      <th>sales_by_agent</th>\n",
       "    </tr>\n",
       "  </thead>\n",
       "  <tbody>\n",
       "    <tr>\n",
       "      <th>0</th>\n",
       "      <td>Peacock</td>\n",
       "      <td>3</td>\n",
       "      <td>833.04</td>\n",
       "    </tr>\n",
       "    <tr>\n",
       "      <th>1</th>\n",
       "      <td>Park</td>\n",
       "      <td>4</td>\n",
       "      <td>775.40</td>\n",
       "    </tr>\n",
       "    <tr>\n",
       "      <th>2</th>\n",
       "      <td>Johnson</td>\n",
       "      <td>5</td>\n",
       "      <td>720.16</td>\n",
       "    </tr>\n",
       "  </tbody>\n",
       "</table>\n",
       "</div>"
      ],
      "text/plain": [
       "  LastName  SupportRepId  sales_by_agent\n",
       "0  Peacock             3          833.04\n",
       "1     Park             4          775.40\n",
       "2  Johnson             5          720.16"
      ]
     },
     "execution_count": 9,
     "metadata": {},
     "output_type": "execute_result"
    }
   ],
   "source": [
    "db.sales_by_sales_agent()"
   ]
  },
  {
   "cell_type": "code",
   "execution_count": 14,
   "metadata": {},
   "outputs": [
    {
     "data": {
      "text/html": [
       "<div>\n",
       "<style scoped>\n",
       "    .dataframe tbody tr th:only-of-type {\n",
       "        vertical-align: middle;\n",
       "    }\n",
       "\n",
       "    .dataframe tbody tr th {\n",
       "        vertical-align: top;\n",
       "    }\n",
       "\n",
       "    .dataframe thead th {\n",
       "        text-align: right;\n",
       "    }\n",
       "</style>\n",
       "<table border=\"1\" class=\"dataframe\">\n",
       "  <thead>\n",
       "    <tr style=\"text-align: right;\">\n",
       "      <th></th>\n",
       "      <th>Name_of_the_song</th>\n",
       "      <th>InvoiceDate</th>\n",
       "      <th>top_selling_track_2012</th>\n",
       "    </tr>\n",
       "  </thead>\n",
       "  <tbody>\n",
       "    <tr>\n",
       "      <th>0</th>\n",
       "      <td>Interlude Zumbi</td>\n",
       "      <td>2012-12-07 00:00:00</td>\n",
       "      <td>14</td>\n",
       "    </tr>\n",
       "    <tr>\n",
       "      <th>1</th>\n",
       "      <td>Amazing</td>\n",
       "      <td>2012-11-06 00:00:00</td>\n",
       "      <td>14</td>\n",
       "    </tr>\n",
       "    <tr>\n",
       "      <th>2</th>\n",
       "      <td>Salutations</td>\n",
       "      <td>2012-10-06 00:00:00</td>\n",
       "      <td>14</td>\n",
       "    </tr>\n",
       "    <tr>\n",
       "      <th>3</th>\n",
       "      <td>Unchained</td>\n",
       "      <td>2012-09-05 00:00:00</td>\n",
       "      <td>14</td>\n",
       "    </tr>\n",
       "    <tr>\n",
       "      <th>4</th>\n",
       "      <td>Crossroads, Pt. 1</td>\n",
       "      <td>2012-08-05 00:00:00</td>\n",
       "      <td>14</td>\n",
       "    </tr>\n",
       "    <tr>\n",
       "      <th>5</th>\n",
       "      <td>This Is Radio Clash</td>\n",
       "      <td>2012-07-05 00:00:00</td>\n",
       "      <td>14</td>\n",
       "    </tr>\n",
       "    <tr>\n",
       "      <th>6</th>\n",
       "      <td>Sir Psycho Sexy</td>\n",
       "      <td>2012-06-04 00:00:00</td>\n",
       "      <td>14</td>\n",
       "    </tr>\n",
       "    <tr>\n",
       "      <th>7</th>\n",
       "      <td>Prowler</td>\n",
       "      <td>2012-05-04 00:00:00</td>\n",
       "      <td>14</td>\n",
       "    </tr>\n",
       "    <tr>\n",
       "      <th>8</th>\n",
       "      <td>The Meaning Of The Blues</td>\n",
       "      <td>2012-04-03 00:00:00</td>\n",
       "      <td>14</td>\n",
       "    </tr>\n",
       "    <tr>\n",
       "      <th>9</th>\n",
       "      <td>Aloha</td>\n",
       "      <td>2012-03-03 00:00:00</td>\n",
       "      <td>14</td>\n",
       "    </tr>\n",
       "    <tr>\n",
       "      <th>10</th>\n",
       "      <td>Planet Home</td>\n",
       "      <td>2012-02-01 00:00:00</td>\n",
       "      <td>14</td>\n",
       "    </tr>\n",
       "    <tr>\n",
       "      <th>11</th>\n",
       "      <td>The Trooper</td>\n",
       "      <td>2012-01-01 00:00:00</td>\n",
       "      <td>14</td>\n",
       "    </tr>\n",
       "    <tr>\n",
       "      <th>12</th>\n",
       "      <td>Jorge Da Capadócia</td>\n",
       "      <td>2012-12-02 00:00:00</td>\n",
       "      <td>9</td>\n",
       "    </tr>\n",
       "    <tr>\n",
       "      <th>13</th>\n",
       "      <td>Help Yourself</td>\n",
       "      <td>2012-11-01 00:00:00</td>\n",
       "      <td>9</td>\n",
       "    </tr>\n",
       "    <tr>\n",
       "      <th>14</th>\n",
       "      <td>Greetings from Earth, Pt. 1</td>\n",
       "      <td>2012-10-01 00:00:00</td>\n",
       "      <td>9</td>\n",
       "    </tr>\n",
       "  </tbody>\n",
       "</table>\n",
       "</div>"
      ],
      "text/plain": [
       "               Name_of_the_song          InvoiceDate  top_selling_track_2012\n",
       "0               Interlude Zumbi  2012-12-07 00:00:00                      14\n",
       "1                       Amazing  2012-11-06 00:00:00                      14\n",
       "2                   Salutations  2012-10-06 00:00:00                      14\n",
       "3                     Unchained  2012-09-05 00:00:00                      14\n",
       "4             Crossroads, Pt. 1  2012-08-05 00:00:00                      14\n",
       "5           This Is Radio Clash  2012-07-05 00:00:00                      14\n",
       "6               Sir Psycho Sexy  2012-06-04 00:00:00                      14\n",
       "7                       Prowler  2012-05-04 00:00:00                      14\n",
       "8      The Meaning Of The Blues  2012-04-03 00:00:00                      14\n",
       "9                         Aloha  2012-03-03 00:00:00                      14\n",
       "10                  Planet Home  2012-02-01 00:00:00                      14\n",
       "11                  The Trooper  2012-01-01 00:00:00                      14\n",
       "12           Jorge Da Capadócia  2012-12-02 00:00:00                       9\n",
       "13                Help Yourself  2012-11-01 00:00:00                       9\n",
       "14  Greetings from Earth, Pt. 1  2012-10-01 00:00:00                       9"
      ]
     },
     "execution_count": 14,
     "metadata": {},
     "output_type": "execute_result"
    }
   ],
   "source": [
    "db.top_selling_track_of_2012()"
   ]
  }
 ],
 "metadata": {
  "kernelspec": {
   "display_name": "Python 3.10.8 64-bit",
   "language": "python",
   "name": "python3"
  },
  "language_info": {
   "codemirror_mode": {
    "name": "ipython",
    "version": 3
   },
   "file_extension": ".py",
   "mimetype": "text/x-python",
   "name": "python",
   "nbconvert_exporter": "python",
   "pygments_lexer": "ipython3",
   "version": "3.10.8"
  },
  "orig_nbformat": 4,
  "vscode": {
   "interpreter": {
    "hash": "ced302e9c537f0529f42606470e17c17bda961a3d7dcee3d8c1bcf639c82031d"
   }
  }
 },
 "nbformat": 4,
 "nbformat_minor": 2
}
