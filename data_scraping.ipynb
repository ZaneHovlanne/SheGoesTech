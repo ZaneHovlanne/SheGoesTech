{
 "cells": [
  {
   "cell_type": "code",
   "execution_count": 1,
   "metadata": {},
   "outputs": [],
   "source": [
    "import requests\n",
    "import time\n",
    "import pandas as pd\n",
    "from bs4 import BeautifulSoup"
   ]
  },
  {
   "cell_type": "code",
   "execution_count": 2,
   "metadata": {},
   "outputs": [
    {
     "data": {
      "text/plain": [
       "200"
      ]
     },
     "execution_count": 2,
     "metadata": {},
     "output_type": "execute_result"
    }
   ],
   "source": [
    "url = \"https://www.ss.lv/lv/animals/dogs/sell/\"\n",
    "req = requests.get(url) \n",
    "req.status_code "
   ]
  },
  {
   "cell_type": "code",
   "execution_count": 3,
   "metadata": {},
   "outputs": [],
   "source": [
    "def getColList(soup, default_columns = ('description', \"url\")):\n",
    "    column_list = list(default_columns)\n",
    "    headline = soup.find(\"tr\", {\"id\":\"head_line\"})\n",
    "    headtds = headline.find_all(\"td\")\n",
    "    headcolumns = [el.text for el in headtds[1:]] \n",
    "    column_list += headcolumns\n",
    "    return column_list"
   ]
  },
  {
   "cell_type": "code",
   "execution_count": 5,
   "metadata": {},
   "outputs": [
    {
     "data": {
      "text/plain": [
       "['description', 'url', 'Šķirne', 'Vecums', 'Cena']"
      ]
     },
     "execution_count": 5,
     "metadata": {},
     "output_type": "execute_result"
    }
   ],
   "source": [
    "soup = BeautifulSoup(req.text, 'lxml')\n",
    "column_names = getColList(soup)\n",
    "column_names "
   ]
  },
  {
   "cell_type": "code",
   "execution_count": 6,
   "metadata": {},
   "outputs": [],
   "source": [
    "def getRow(row,colist=column_names):\n",
    "    row_tds = row.find_all('td')\n",
    "    rowDict = {}\n",
    "    if len(row_tds) < 3: # a little sanity check\n",
    "        print(\"Hmm bad row\")\n",
    "        return rowDict\n",
    "    \n",
    "    rowDict[colist[0]] = row_tds[2].text # so the big assumption is that we always get description in 3rd column\n",
    "    rowDict[colist[1]] = \"https://ss.com\" + row_tds[1].find('a').get('href')\n",
    "    for td,key in zip(row_tds[3:],colist[2:]): \n",
    "        rowDict[key] = td.text\n",
    "    return rowDict"
   ]
  },
  {
   "cell_type": "code",
   "execution_count": 8,
   "metadata": {},
   "outputs": [
    {
     "data": {
      "text/plain": [
       "{'description': 'Nodosim mīļās, gādīgās, labās rokās mazos suņu bērniņus. \\r\\nMāte Austrumeiropas aitu sunsDobele un raj.',\n",
       " 'url': 'https://ss.com/msg/lv/animals/dogs/labrador-retriever/dckcb.html',\n",
       " 'Šķirne': 'Labradors retrivers',\n",
       " 'Vecums': '2 mēn.',\n",
       " 'Cena': '100  €'}"
      ]
     },
     "execution_count": 8,
     "metadata": {},
     "output_type": "execute_result"
    }
   ],
   "source": [
    "def getRowList(soup):\n",
    "    trows = soup.find_all('tr')\n",
    "    aprows = [row for row in trows if row.get('id',\"\").startswith(\"tr_\") and not row.get('id',\"\").startswith(\"tr_bnr\") ]\n",
    "    return aprows\n",
    "    \n",
    "apt_rows = getRowList(soup)\n",
    "apt_rows[0]\n",
    "getRow(apt_rows[0])"
   ]
  },
  {
   "cell_type": "code",
   "execution_count": 9,
   "metadata": {},
   "outputs": [
    {
     "data": {
      "text/html": [
       "<div>\n",
       "<style scoped>\n",
       "    .dataframe tbody tr th:only-of-type {\n",
       "        vertical-align: middle;\n",
       "    }\n",
       "\n",
       "    .dataframe tbody tr th {\n",
       "        vertical-align: top;\n",
       "    }\n",
       "\n",
       "    .dataframe thead th {\n",
       "        text-align: right;\n",
       "    }\n",
       "</style>\n",
       "<table border=\"1\" class=\"dataframe\">\n",
       "  <thead>\n",
       "    <tr style=\"text-align: right;\">\n",
       "      <th></th>\n",
       "      <th>description</th>\n",
       "      <th>url</th>\n",
       "      <th>Šķirne</th>\n",
       "      <th>Vecums</th>\n",
       "      <th>Cena</th>\n",
       "    </tr>\n",
       "  </thead>\n",
       "  <tbody>\n",
       "    <tr>\n",
       "      <th>0</th>\n",
       "      <td>Nodosim mīļās, gādīgās, labās rokās mazos suņu...</td>\n",
       "      <td>https://ss.com/msg/lv/animals/dogs/labrador-re...</td>\n",
       "      <td>Labradors retrivers</td>\n",
       "      <td>2 mēn.</td>\n",
       "      <td>100  €</td>\n",
       "    </tr>\n",
       "    <tr>\n",
       "      <th>1</th>\n",
       "      <td>Pārdodu 8 mēnešus vecu sunīti vārdā Bruno. \\r\\...</td>\n",
       "      <td>https://ss.com/msg/lv/animals/dogs/siberian-hu...</td>\n",
       "      <td>Sibīrijas haski</td>\n",
       "      <td>8 mēn.</td>\n",
       "      <td>80  €</td>\n",
       "    </tr>\n",
       "    <tr>\n",
       "      <th>2</th>\n",
       "      <td>Izgatavojam dažādas suņu būdas pēc Jūsu vēlmēm...</td>\n",
       "      <td>https://ss.com/msg/lv/animals/dogs/accessories...</td>\n",
       "      <td>-</td>\n",
       "      <td>-</td>\n",
       "      <td>200  €</td>\n",
       "    </tr>\n",
       "    <tr>\n",
       "      <th>3</th>\n",
       "      <td>Puisītis meklē jaunus saimniekus. Māk nokārtot...</td>\n",
       "      <td>https://ss.com/msg/lv/animals/dogs/russkiy-toy...</td>\n",
       "      <td>Krievu toiterjers (glu</td>\n",
       "      <td>2.5 mēn.</td>\n",
       "      <td>650  €</td>\n",
       "    </tr>\n",
       "    <tr>\n",
       "      <th>4</th>\n",
       "      <td>Ручная работа. Вязаная одежда для собачек мале...</td>\n",
       "      <td>https://ss.com/msg/lv/animals/dogs/accessories...</td>\n",
       "      <td>-</td>\n",
       "      <td>-</td>\n",
       "      <td>10  €</td>\n",
       "    </tr>\n",
       "  </tbody>\n",
       "</table>\n",
       "</div>"
      ],
      "text/plain": [
       "                                         description  \\\n",
       "0  Nodosim mīļās, gādīgās, labās rokās mazos suņu...   \n",
       "1  Pārdodu 8 mēnešus vecu sunīti vārdā Bruno. \\r\\...   \n",
       "2  Izgatavojam dažādas suņu būdas pēc Jūsu vēlmēm...   \n",
       "3  Puisītis meklē jaunus saimniekus. Māk nokārtot...   \n",
       "4  Ручная работа. Вязаная одежда для собачек мале...   \n",
       "\n",
       "                                                 url                  Šķirne  \\\n",
       "0  https://ss.com/msg/lv/animals/dogs/labrador-re...     Labradors retrivers   \n",
       "1  https://ss.com/msg/lv/animals/dogs/siberian-hu...         Sibīrijas haski   \n",
       "2  https://ss.com/msg/lv/animals/dogs/accessories...                       -   \n",
       "3  https://ss.com/msg/lv/animals/dogs/russkiy-toy...  Krievu toiterjers (glu   \n",
       "4  https://ss.com/msg/lv/animals/dogs/accessories...                       -   \n",
       "\n",
       "     Vecums    Cena  \n",
       "0    2 mēn.  100  €  \n",
       "1    8 mēn.   80  €  \n",
       "2         -  200  €  \n",
       "3  2.5 mēn.  650  €  \n",
       "4         -   10  €  "
      ]
     },
     "execution_count": 9,
     "metadata": {},
     "output_type": "execute_result"
    }
   ],
   "source": [
    "def getRows(rowlist,colist=column_names):\n",
    "    return [getRow(row, colist=colist) for row in rowlist]\n",
    "row_ads = getRows(apt_rows)\n",
    "dtemp = pd.DataFrame(row_ads, columns=column_names)\n",
    "dtemp.head()\n"
   ]
  },
  {
   "cell_type": "code",
   "execution_count": 13,
   "metadata": {},
   "outputs": [],
   "source": [
    "dtemp.to_csv(\"dtemp.csv\", index=False)"
   ]
  }
 ],
 "metadata": {
  "kernelspec": {
   "display_name": "Python 3.10.8 ('mypython': venv)",
   "language": "python",
   "name": "python3"
  },
  "language_info": {
   "codemirror_mode": {
    "name": "ipython",
    "version": 3
   },
   "file_extension": ".py",
   "mimetype": "text/x-python",
   "name": "python",
   "nbconvert_exporter": "python",
   "pygments_lexer": "ipython3",
   "version": "3.10.8"
  },
  "orig_nbformat": 4,
  "vscode": {
   "interpreter": {
    "hash": "a0c4a8393eb52a6393ae472fe779be510cd54e2dd1cdfd0c472b983090b7d3a8"
   }
  }
 },
 "nbformat": 4,
 "nbformat_minor": 2
}
