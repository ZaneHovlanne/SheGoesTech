{
 "cells": [
  {
   "cell_type": "markdown",
   "metadata": {},
   "source": [
    "This is the **best** notebook created *here*!\n",
    "BY ***ZANE*** \n",
    "\n",
    "![Some Graph][def]\n",
    "\n",
    "[def]: https://images.pexels.com/photos/5429056/pexels-photo-5429056.png?auto=compress&cs=tinysrgb&w=600"
   ]
  },
  {
   "cell_type": "code",
   "execution_count": 15,
   "metadata": {},
   "outputs": [
    {
     "name": "stdout",
     "output_type": "stream",
     "text": [
      "Hello Notebooks!\n"
     ]
    }
   ],
   "source": [
    "print(\"Hello Notebooks!\")"
   ]
  },
  {
   "cell_type": "code",
   "execution_count": 16,
   "metadata": {},
   "outputs": [],
   "source": [
    "import random\n",
    "import matplotlib.pyplot as plt"
   ]
  },
  {
   "cell_type": "code",
   "execution_count": 35,
   "metadata": {},
   "outputs": [],
   "source": [
    "def dice_throw(number_of_dice=4, number_of_throws=100):\n",
    "    possible_values = [1, 2, 3, 4, 5, 6]\n",
    "    for die in range(number_of_throws):\n",
    "        for die in range(number_of_dice):\n",
    "            rolled_dice = random.choice(possible_values)\n",
    "            return rolled_dice\n",
    "            "
   ]
  },
  {
   "cell_type": "code",
   "execution_count": 49,
   "metadata": {},
   "outputs": [],
   "source": [
    "dice_throw()"
   ]
  },
  {
   "cell_type": "markdown",
   "metadata": {},
   "source": [
    "**THERE SHOULD BE A GRAPH HERE FROM HOMEWORK, BUT I was not succesfull, SO THERE IS A** ***MEME***\n",
    "![Some graph](https://realtoughcandy.com/wp-content/uploads/2022/02/shrimp-meme.jpg)"
   ]
  }
 ],
 "metadata": {
  "kernelspec": {
   "display_name": "Python 3.10.7 ('venv': venv)",
   "language": "python",
   "name": "python3"
  },
  "language_info": {
   "codemirror_mode": {
    "name": "ipython",
    "version": 3
   },
   "file_extension": ".py",
   "mimetype": "text/x-python",
   "name": "python",
   "nbconvert_exporter": "python",
   "pygments_lexer": "ipython3",
   "version": "3.10.7"
  },
  "orig_nbformat": 4,
  "vscode": {
   "interpreter": {
    "hash": "b1646cc11edfdd909cec61ce4378799a0c84267c7eb5f06c4e35545f5bb83d21"
   }
  }
 },
 "nbformat": 4,
 "nbformat_minor": 2
}
